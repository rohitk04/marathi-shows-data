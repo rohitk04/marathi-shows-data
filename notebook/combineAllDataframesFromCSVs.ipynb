{
 "cells": [
  {
   "cell_type": "code",
   "execution_count": 1,
   "metadata": {},
   "outputs": [],
   "source": [
    "import pandas as pd\n",
    "def read_csv(path, col_name):\n",
    "    return pd.read_csv(path).set_index(col_name).sort_index()"
   ]
  },
  {
   "cell_type": "code",
   "execution_count": 2,
   "metadata": {},
   "outputs": [],
   "source": [
    "channels_grp = read_csv('../data/csv/channels/channels_grp.csv', 'Channel')\n",
    "channels_rank = read_csv('../data/csv/channels/channels_rank.csv', 'Channel')\n",
    "\n",
    "shows_info = read_csv('../data/csv/shows/info.csv', 'Show')\n",
    "\n",
    "tv_trp_trp = read_csv('../data/csv/shows/tv/tv_trp_trp.csv', 'Show')\n",
    "tv_trp_rank = read_csv('../data/csv/shows/tv/tv_trp_rank.csv', 'Show')\n",
    "\n",
    "mahaepisodes_info = read_csv('../data/csv/shows/mahaepisode/mahaepisode_info.csv', 'Show')\n",
    "mahaepisodes_trp = read_csv('../data/csv/shows/mahaepisode/mahaepisode_trp.csv', 'Show')\n",
    "mahaepisodes_rank = read_csv('../data/csv/shows/mahaepisode/mahaepisode_rank.csv', 'Show')\n",
    "mahaepisodes_time = read_csv('../data/csv/shows/mahaepisode/mahaepisode_time.csv', 'Show')\n",
    "\n",
    "online_trp_trp = read_csv('../data/csv/shows/online/online_trp_trp.csv','Show')\n",
    "online_trp_rank = read_csv('../data/csv/shows/online/online_trp_rank.csv', 'Show')"
   ]
  },
  {
   "cell_type": "code",
   "execution_count": 3,
   "metadata": {},
   "outputs": [],
   "source": [
    "channels = pd.merge(channels_grp, channels_rank, left_index=True, right_index=True, how='outer',suffixes=(' GRP',' Rank'))\n",
    "channels = channels.sort_index(axis=1)"
   ]
  },
  {
   "cell_type": "code",
   "execution_count": 4,
   "metadata": {},
   "outputs": [],
   "source": [
    "shows_tv = pd.merge(tv_trp_trp, tv_trp_rank, left_index=True, right_index=True, how='outer',suffixes=(' TV TRP TRP',' TV TRP Rank'))\n",
    "shows_online = pd.merge(online_trp_trp, online_trp_rank, left_index=True, right_index=True, how='outer',suffixes=(' Online TRP TRP',' Online TRP Rank'))\n",
    "\n",
    "shows = pd.merge(shows_tv, shows_online, left_index=True, right_index=True, how='outer')\n",
    "shows = pd.merge(shows_info, shows, left_index=True, right_index=True, how='outer')\n",
    "\n",
    "cols = list(shows_tv.columns)\n",
    "n = len(cols)\n",
    "sorted_cols = ['Channel', 'Platform', 'Time']\n",
    "for i in range (int(n/2)):\n",
    "    sorted_cols.extend([\n",
    "        'Week ' + str(i+1) + ' TV TRP TRP',\n",
    "        'Week ' + str(i+1) + ' TV TRP Rank',\n",
    "        'Week ' + str(i+1) + ' Online TRP Rank',\n",
    "        'Week ' + str(i+1) + ' Online TRP Rank',\n",
    "    ])\n",
    "\n",
    "sorted_cols.append('Type')\n",
    "\n",
    "shows = shows[sorted_cols]"
   ]
  },
  {
   "cell_type": "code",
   "execution_count": 5,
   "metadata": {},
   "outputs": [],
   "source": [
    "mahaepisodes = pd.merge(mahaepisodes_trp, mahaepisodes_rank, left_index=True, right_index=True, how='outer',suffixes=(' TRP',' Rank'))\n",
    "mahaepisodes = pd.merge(mahaepisodes, mahaepisodes_time.add_suffix(' Time'), left_index=True, right_index=True, how='outer')\n",
    "mahaepisodes = pd.merge(mahaepisodes, mahaepisodes_info, left_index=True, right_index=True, how='outer')\n",
    "\n",
    "import re\n",
    "nums = set()\n",
    "for col in mahaepisodes.columns:\n",
    "    try:\n",
    "        num = int(re.findall(r'\\d+',col)[0])\n",
    "        nums.add(num)\n",
    "    except:\n",
    "        pass\n",
    "\n",
    "sorted_cols = ['Channel', 'Platform']\n",
    "for i in nums:\n",
    "    sorted_cols.extend([\n",
    "        'Week ' + str(i) + ' TRP',\n",
    "        'Week ' + str(i) + ' Rank',\n",
    "        'Week ' + str(i) + ' Time'\n",
    "    ])\n",
    "sorted_cols.append('Type')\n",
    "\n",
    "mahaepisodes = mahaepisodes[sorted_cols]\n"
   ]
  },
  {
   "cell_type": "code",
   "execution_count": 6,
   "metadata": {},
   "outputs": [],
   "source": [
    "channels.to_csv('csv/channels.csv')\n",
    "shows.to_csv('csv/shows.csv')\n",
    "mahaepisodes.to_csv('csv/mahaepisodes.csv')"
   ]
  },
  {
   "cell_type": "markdown",
   "metadata": {},
   "source": [
    "In Command Prompt\n",
    "```\n",
    "sqlite3\n",
    "> .mode csv\n",
    "> .import my_csv.csv my_table\n",
    "> .output my_table_sql.sql\n",
    "> .dump my_table\n",
    "```"
   ]
  }
 ],
 "metadata": {
  "interpreter": {
   "hash": "0ac516125b3ee16d4eaa41f008fade7bad50b808bd1b6d74d2e8ae0015ba9066"
  },
  "kernelspec": {
   "display_name": "Python 3.9.6 64-bit",
   "language": "python",
   "name": "python3"
  },
  "language_info": {
   "codemirror_mode": {
    "name": "ipython",
    "version": 3
   },
   "file_extension": ".py",
   "mimetype": "text/x-python",
   "name": "python",
   "nbconvert_exporter": "python",
   "pygments_lexer": "ipython3",
   "version": "3.9.6"
  },
  "orig_nbformat": 4
 },
 "nbformat": 4,
 "nbformat_minor": 2
}
